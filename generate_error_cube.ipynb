{
 "cells": [
  {
   "cell_type": "code",
   "execution_count": 1,
   "metadata": {},
   "outputs": [],
   "source": [
    "import numpy as np\n",
    "import matplotlib.pyplot as plt\n",
    "from astropy.io import fits\n",
    "from random import randint"
   ]
  },
  {
   "cell_type": "code",
   "execution_count": null,
   "metadata": {},
   "outputs": [],
   "source": [
    "# ******** Make a mini-cube of the central 3x3 region ********"
   ]
  },
  {
   "cell_type": "code",
   "execution_count": 2,
   "metadata": {},
   "outputs": [
    {
     "name": "stdout",
     "output_type": "stream",
     "text": [
      "Filename: /Users/orion/phd_research/3C297/0final_3C297_medsub.fits\n",
      "No.    Name      Ver    Type      Cards   Dimensions   Format\n",
      "  0  PRIMARY       1 PrimaryHDU     779   (66, 68, 2210)   float32   \n"
     ]
    }
   ],
   "source": [
    "fits_filename = ('/Users/orion/phd_research/3C297/finalcube_3C297_mediansubtracted.fits')\n",
    "hdul = fits.open(fits_filename)\n",
    "hdul.info() "
   ]
  },
  {
   "cell_type": "code",
   "execution_count": 3,
   "metadata": {},
   "outputs": [],
   "source": [
    "data_cube = hdul[0].data\n",
    "cube_header = hdul[0].header\n",
    "cw = cube_header['CRVAL3']         #central wavelength\n",
    "mp = cube_header['CDELT3']         #microns per pixel"
   ]
  },
  {
   "cell_type": "code",
   "execution_count": null,
   "metadata": {},
   "outputs": [],
   "source": [
    "error_cube = data_cube[:,32:35,32:35]                 #3x3 cube: (32,32) to (34,34)\n",
    "#print (np.shape(error_cube))\n",
    "stderror_cube = np.std(error_cube,axis=(1,2))\n",
    "#print (np.shape(stderror_cube))"
   ]
  },
  {
   "cell_type": "code",
   "execution_count": null,
   "metadata": {},
   "outputs": [],
   "source": [
    "# 3x3 error cube\n",
    "summed = np.arange(len(data_cube), dtype=float)\n",
    "summed = 0\n",
    "for i in range(32,35):\n",
    "    for j in range(32,35):\n",
    "        print (i,j)\n",
    "        summed += data_cube[:,i,j]\n",
    "\n",
    "#print (np.shape(summed))\n",
    "\n",
    "y = summed             \n",
    "x = np.arange(len(y))\n"
   ]
  },
  {
   "cell_type": "code",
   "execution_count": 5,
   "metadata": {},
   "outputs": [
    {
     "name": "stdout",
     "output_type": "stream",
     "text": [
      "1.64999997615814 0.000195000000530854\n"
     ]
    },
    {
     "data": {
      "text/plain": [
       "array([1.43452498, 1.43471998, 1.43491498, ..., 1.86488998, 1.86508498,\n",
       "       1.86527998])"
      ]
     },
     "execution_count": 5,
     "metadata": {},
     "output_type": "execute_result"
    }
   ],
   "source": [
    "print (cw,mp)\n",
    "start_w = cw - cube_header['CRPIX3']*mp \n",
    "x = start_w + x*mp\n",
    "\n",
    "\n",
    "# line-free region in spectrum => continuum \n",
    "select_cont = (x>1.70) & (x<1.80)\n",
    "\n",
    "#x[select_cont]     #check\n",
    "x"
   ]
  },
  {
   "cell_type": "code",
   "execution_count": 6,
   "metadata": {},
   "outputs": [
    {
     "data": {
      "text/plain": [
       "[<matplotlib.lines.Line2D at 0x7fc8c2728d10>]"
      ]
     },
     "execution_count": 6,
     "metadata": {},
     "output_type": "execute_result"
    },
    {
     "data": {
      "image/png": "[encoded data removed]",
      "text/plain": [
       "<Figure size 432x288 with 1 Axes>"
      ]
     },
     "metadata": {
      "needs_background": "light"
     },
     "output_type": "display_data"
    }
   ],
   "source": [
    "cont_wave = x[select_cont]\n",
    "\n",
    "cont_data = y[select_cont]              #-- for 3x3 \n",
    "#cont_data = central_pix[select_cont]  # -- for per spaxel fitting\n",
    "\n",
    "plt.plot(cont_wave,cont_data)"
   ]
  },
  {
   "cell_type": "code",
   "execution_count": 7,
   "metadata": {},
   "outputs": [
    {
     "name": "stderr",
     "output_type": "stream",
     "text": [
      "/Users/orion/anaconda3/lib/python3.7/site-packages/ipykernel_launcher.py:6: RuntimeWarning: invalid value encountered in sqrt\n",
      "  \n",
      "/Users/orion/anaconda3/lib/python3.7/site-packages/ipykernel_launcher.py:7: RuntimeWarning: invalid value encountered in sqrt\n",
      "  import sys\n"
     ]
    },
    {
     "data": {
      "text/plain": [
       "(2210, 68, 66)"
      ]
     },
     "execution_count": 7,
     "metadata": {},
     "output_type": "execute_result"
    }
   ],
   "source": [
    "s = np.mean(cont_data)  # mean continuum => signal\n",
    "n = np.std(cont_data)   # std. dev. in continuum => noise\n",
    "\n",
    "snr = (s/n)\n",
    "\n",
    "sn_cube = np.sqrt(data_cube/s)*snr   # (datacube / mean continuum)^1/2  =>  error cube \n",
    "err = np.sqrt(data_cube*s)/snr   \n",
    "\n",
    "#check size & dimensions\n",
    "np.shape(sn_cube)"
   ]
  },
  {
   "cell_type": "code",
   "execution_count": 8,
   "metadata": {},
   "outputs": [],
   "source": [
    "hdu = fits.PrimaryHDU(sn_cube)\n",
    "hdul = fits.HDUList(fits.PrimaryHDU(sn_cube))\n",
    "hdul[0].header = cube_header\n",
    "hdul.writeto('3x3spaxel_error_cube.fits') "
   ]
  },
  {
   "cell_type": "code",
   "execution_count": null,
   "metadata": {},
   "outputs": [],
   "source": []
  },
  {
   "cell_type": "code",
   "execution_count": null,
   "metadata": {},
   "outputs": [],
   "source": []
  }
 ],
 "metadata": {
  "kernelspec": {
   "display_name": "Python 3 (ipykernel)",
   "language": "python",
   "name": "python3"
  },
  "language_info": {
   "codemirror_mode": {
    "name": "ipython",
    "version": 3
   },
   "file_extension": ".py",
   "mimetype": "text/x-python",
   "name": "python",
   "nbconvert_exporter": "python",
   "pygments_lexer": "ipython3",
   "version": "3.7.16"
  }
 },
 "nbformat": 4,
 "nbformat_minor": 4
}
