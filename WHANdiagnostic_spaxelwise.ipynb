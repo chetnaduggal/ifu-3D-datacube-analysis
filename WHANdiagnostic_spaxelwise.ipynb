{
 "cells": [
  {
   "cell_type": "code",
   "execution_count": 1,
   "id": "8cef60d1",
   "metadata": {},
   "outputs": [],
   "source": [
    "import numpy as np\n",
    "from astropy.io import fits\n",
    "import matplotlib.pyplot as plt\n",
    "import seaborn as sns"
   ]
  },
  {
   "cell_type": "code",
   "execution_count": 5,
   "id": "8c164195",
   "metadata": {},
   "outputs": [
    {
     "data": {
      "text/html": [
       "<svg  width=\"330\" height=\"55\"><rect x=\"0\" y=\"0\" width=\"55\" height=\"55\" style=\"fill:#d7dfc0;stroke-width:2;stroke:rgb(255,255,255)\"/><rect x=\"55\" y=\"0\" width=\"55\" height=\"55\" style=\"fill:#9bc799;stroke-width:2;stroke:rgb(255,255,255)\"/><rect x=\"110\" y=\"0\" width=\"55\" height=\"55\" style=\"fill:#65a88e;stroke-width:2;stroke:rgb(255,255,255)\"/><rect x=\"165\" y=\"0\" width=\"55\" height=\"55\" style=\"fill:#477d89;stroke-width:2;stroke:rgb(255,255,255)\"/><rect x=\"220\" y=\"0\" width=\"55\" height=\"55\" style=\"fill:#3b4a71;stroke-width:2;stroke:rgb(255,255,255)\"/><rect x=\"275\" y=\"0\" width=\"55\" height=\"55\" style=\"fill:#2c1e3e;stroke-width:2;stroke:rgb(255,255,255)\"/></svg>"
      ],
      "text/plain": [
       "[[0.8423298817793848, 0.8737404427964184, 0.7524954030731037],\n",
       " [0.6081786671884791, 0.7816177694090097, 0.6017787295654944],\n",
       " [0.39493837953687966, 0.6591653753197486, 0.5567106633592679],\n",
       " [0.2775060539006816, 0.4896743690748741, 0.5382978119096076],\n",
       " [0.23232402880291025, 0.29085707267476174, 0.4444839422076804],\n",
       " [0.17250549177124488, 0.11951843162770594, 0.24320155229883056]]"
      ]
     },
     "execution_count": 5,
     "metadata": {},
     "output_type": "execute_result"
    }
   ],
   "source": [
    "sns.cubehelix_palette(start=.5, rot=-.75)"
   ]
  },
  {
   "cell_type": "code",
   "execution_count": 6,
   "id": "86eed5a5",
   "metadata": {},
   "outputs": [
    {
     "name": "stdout",
     "output_type": "stream",
     "text": [
      "['#d7dfc0', '#9bc799', '#65a88e', '#477d89', '#3b4a71', '#2c1e3e']\n"
     ]
    }
   ],
   "source": [
    "print(sns.cubehelix_palette(start=.5, rot=-.75).as_hex())"
   ]
  },
  {
   "cell_type": "code",
   "execution_count": null,
   "id": "fb8f5997",
   "metadata": {},
   "outputs": [],
   "source": []
  },
  {
   "cell_type": "code",
   "execution_count": 7,
   "id": "27b51110",
   "metadata": {},
   "outputs": [],
   "source": [
    "def read_map(filename):\n",
    "    \n",
    "    hdu = fits.open(inputdir+filename)\n",
    "    data = hdu[0].data\n",
    "\n",
    "    return data\n"
   ]
  },
  {
   "cell_type": "code",
   "execution_count": 8,
   "id": "cf7b6de1",
   "metadata": {},
   "outputs": [],
   "source": [
    "def reg(n):\n",
    "\n",
    "    #spaxel range (xa,ya), (xb,yb)     \n",
    "    if n==1:\n",
    "        xa, ya, xb, yb = 6, 6, 11, 14        \n",
    "    elif n==2:\n",
    "        xa, ya, xb, yb = 11, 6, 16, 15\n",
    "    elif n==3:\n",
    "        xa, ya, xb, yb = 6, 1, 16, 6\n",
    "    elif n==4:\n",
    "        xa, ya, xb, yb = 16, 23, 25, 30\n",
    "    else:\n",
    "        xa, ya, xb, yb = 19, 19, 28, 24\n",
    "        \n",
    "    return xa, ya, xb, yb\n"
   ]
  },
  {
   "cell_type": "code",
   "execution_count": 9,
   "id": "ee967fd0",
   "metadata": {},
   "outputs": [],
   "source": [
    "def set_plot():\n",
    "    \n",
    "    fig, ax = plt.subplots(figsize=(5,5))\n",
    "    plt.rcParams['font.family'] = 'sans-serif'\n",
    "    \n",
    "    ax.set_xlim([-2.2, 1.8])\n",
    "    ax.set_ylim([-2.2, 3.5])\n",
    "    \n",
    "    # demarcations\n",
    "    ax.axvline(x=-0.4, ymin=0.47, ymax=3, color='k', linestyle=':', linewidth=0.8, alpha=0.8)   #SF\n",
    "    ax.axhline(y=0.47, xmin=-2, xmax=1.5, color='k', linestyle=':', linewidth=0.8,alpha=0.8)  # AGN\n",
    "    \n",
    "    ax.text(-1.8, 3, 'Star-forming', color='k', fontstyle='italic', alpha=0.9, fontsize=9)\n",
    "    ax.text(1, 0.7, 'AGN', color='k', fontstyle='italic', alpha=0.9, fontsize=9)\n",
    "    ax.text(-1.5, -1.6, 'Passive', color='k', fontstyle='italic', alpha=0.9, fontsize=9)\n",
    "\n",
    "    \n",
    "    ax.set_xlabel(r'log$_{10}$ [NII]/H $\\alpha$',fontsize=12, labelpad=8)\n",
    "    ax.set_ylabel(r'log$_{10}$ W$_{H\\alpha}$ [$\\AA$]',fontsize=12, labelpad=5)\n",
    "\n",
    "\n",
    "    return fig, ax\n",
    "    "
   ]
  },
  {
   "cell_type": "code",
   "execution_count": 30,
   "id": "fb57445e",
   "metadata": {},
   "outputs": [],
   "source": [
    "def plot(figure, axis, logratio,logeq):\n",
    "    \n",
    "    \n",
    "    region = [1,2,3,4,5]\n",
    "    c = ['#395d9c', 'paleturquoise', '#60ceac', 'pink']\n",
    "    m = ['o', 'D', '^', 'o']\n",
    "    l = ['region A', 'region B', 'region C', 'region D']\n",
    "    f= ['#395d9c', 'paleturquoise', '#60ceac', 'none']\n",
    "    \n",
    "    \n",
    "    for k in range(4):\n",
    "        \n",
    "        log_ratio = []\n",
    "        log_eq = []\n",
    "    \n",
    "        if k < 3:\n",
    "            x1, y1, x2, y2 = reg(region[k])\n",
    "            for i in range(x1,x2): \n",
    "                for j in range(y1,y2):          \n",
    "                    #n=n+1    #count spaxels\n",
    "                    #plt.scatter(logratio[i,j], logeq[i,j], s=10, marker='o', color='red')\n",
    "                    log_ratio.append(logratio[i,j])\n",
    "                    log_eq.append(logeq[i,j])\n",
    "\n",
    "        if k==3:\n",
    "            \n",
    "            x1, y1, x2, y2 = reg(region[3])\n",
    "            for i in range(x1,x2): \n",
    "                for j in range(y1,y2):          \n",
    "                    #n=n+1    #count spaxels\n",
    "                    #plt.scatter(logratio[i,j], logeq[i,j], s=10, marker='o', color='red')\n",
    "                    log_ratio.append(logratio[i,j])\n",
    "                    log_eq.append(logeq[i,j])\n",
    "                    \n",
    "            x1, y1, x2, y2 = reg(region[4])\n",
    "            for i in range(x1,x2): \n",
    "                for j in range(y1,y2):          \n",
    "                    #n=n+1    #count spaxels\n",
    "                    #plt.scatter(logratio[i,j], logeq[i,j], s=10, marker='o', color='red')\n",
    "                    log_ratio.append(logratio[i,j])\n",
    "                    log_eq.append(logeq[i,j])\n",
    "                    \n",
    "                    \n",
    "        \n",
    "        axis.scatter(log_ratio, log_eq, s=30, marker=m[k], color=c[k], label=l[k], facecolor=f[k])  \n",
    "        axis.legend(loc='upper right', prop = { \"weight\": 'bold', \"size\" : 8})\n",
    "    \n",
    "        "
   ]
  },
  {
   "cell_type": "code",
   "execution_count": null,
   "id": "19e2a389",
   "metadata": {},
   "outputs": [],
   "source": [
    "inputdir = '/Users/orion/phd_research/3C297/WHAN_diagnostic/'"
   ]
  },
  {
   "cell_type": "code",
   "execution_count": 19,
   "id": "7b3f7531",
   "metadata": {},
   "outputs": [],
   "source": [
    "log_ratio_N = read_map('logRatio_narrow.fits')\n",
    "log_eqw_N = read_map('logEqW_narrow.fits')"
   ]
  },
  {
   "cell_type": "code",
   "execution_count": 20,
   "id": "7ef8a3d2",
   "metadata": {},
   "outputs": [
    {
     "name": "stdout",
     "output_type": "stream",
     "text": [
      "(30, 34) (30, 34)\n"
     ]
    }
   ],
   "source": [
    "print(log_ratio_N.shape, log_eqw_N.shape)"
   ]
  },
  {
   "cell_type": "code",
   "execution_count": 31,
   "id": "158a80f5",
   "metadata": {},
   "outputs": [
    {
     "data": {
      "image/png": "[encoded data removed]",
      "text/plain": [
       "<Figure size 360x360 with 1 Axes>"
      ]
     },
     "metadata": {
      "needs_background": "light"
     },
     "output_type": "display_data"
    }
   ],
   "source": [
    "f, a = set_plot()\n",
    "plot(f, a, log_ratio_N, log_eqw_N)\n",
    "\n",
    "plt.savefig('whan_narrow.pdf', dpi=1000, bbox_inches='tight')"
   ]
  },
  {
   "cell_type": "code",
   "execution_count": null,
   "id": "6892c721",
   "metadata": {},
   "outputs": [],
   "source": []
  }
 ],
 "metadata": {
  "kernelspec": {
   "display_name": "Python 3 (ipykernel)",
   "language": "python",
   "name": "python3"
  },
  "language_info": {
   "codemirror_mode": {
    "name": "ipython",
    "version": 3
   },
   "file_extension": ".py",
   "mimetype": "text/x-python",
   "name": "python",
   "nbconvert_exporter": "python",
   "pygments_lexer": "ipython3",
   "version": "3.7.16"
  }
 },
 "nbformat": 4,
 "nbformat_minor": 5
}
